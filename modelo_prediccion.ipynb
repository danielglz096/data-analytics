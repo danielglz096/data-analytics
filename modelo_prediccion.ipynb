{
  "nbformat": 4,
  "nbformat_minor": 0,
  "metadata": {
    "colab": {
      "provenance": [],
      "authorship_tag": "ABX9TyO8PBdNZDXTfs/7dPj28opC",
      "include_colab_link": true
    },
    "kernelspec": {
      "name": "python3",
      "display_name": "Python 3"
    },
    "language_info": {
      "name": "python"
    }
  },
  "cells": [
    {
      "cell_type": "markdown",
      "metadata": {
        "id": "view-in-github",
        "colab_type": "text"
      },
      "source": [
        "<a href=\"https://colab.research.google.com/github/danielglz096/data-analytics/blob/main/modelo_prediccion.ipynb\" target=\"_parent\"><img src=\"https://colab.research.google.com/assets/colab-badge.svg\" alt=\"Open In Colab\"/></a>"
      ]
    },
    {
      "cell_type": "code",
      "source": [
        "from google.colab import drive\n",
        "drive.mount('/content/drive')"
      ],
      "metadata": {
        "colab": {
          "base_uri": "https://localhost:8080/"
        },
        "id": "I1-o709NBQUm",
        "outputId": "77b48f8a-b2fa-4405-a1b7-6cb512c76751"
      },
      "execution_count": null,
      "outputs": [
        {
          "output_type": "stream",
          "name": "stdout",
          "text": [
            "Mounted at /content/drive\n"
          ]
        }
      ]
    },
    {
      "cell_type": "code",
      "source": [
        "import pandas as pd"
      ],
      "metadata": {
        "id": "TaS0LxjGCW-1"
      },
      "execution_count": null,
      "outputs": []
    },
    {
      "cell_type": "code",
      "source": [
        "df = pd.read_csv('/content/drive/MyDrive/analitica/reto_final/base_final.csv')"
      ],
      "metadata": {
        "id": "7Xj-G-brBUKQ"
      },
      "execution_count": null,
      "outputs": []
    },
    {
      "cell_type": "code",
      "source": [
        "df = df.drop(columns='id')"
      ],
      "metadata": {
        "id": "qTrdEK3dCzYS"
      },
      "execution_count": null,
      "outputs": []
    },
    {
      "cell_type": "code",
      "source": [
        "display(df.columns)"
      ],
      "metadata": {
        "colab": {
          "base_uri": "https://localhost:8080/",
          "height": 191
        },
        "id": "jNHZjP4hCvyY",
        "outputId": "91585ad3-42a1-4fe4-fb6b-6f4c5edf83f4"
      },
      "execution_count": null,
      "outputs": [
        {
          "output_type": "display_data",
          "data": {
            "text/plain": [
              "Index(['hijos', 'edad_ingreso', 'antiguedad', 'edad_salida', 'evaluacion',\n",
              "       'distancia_km', 'tiempo_h', 'duracion', 'dia_ingreso', 'mes_ingreso',\n",
              "       'year_ingreso', 'dia_salida', 'mes_salida', 'year_salida',\n",
              "       'dia_nacimiento', 'mes_nacimiento', 'year_nacimiento', 'Hombre',\n",
              "       'Mujer', 'baja_liverpool', 'baja_suburbia', 'Eventual No Sind.',\n",
              "       'Eventual Sind.', 'Planta No Sind.', 'Planta Sind.', 'SBB Eventuales',\n",
              "       'SBB Planta', 'Vía Planta No Sind.', 'Vía Planta Sind.',\n",
              "       'ubicacion_encoded', 'funcion_encoded', 'numero_puestos',\n",
              "       'duracion_promedio'],\n",
              "      dtype='object')"
            ]
          },
          "metadata": {}
        }
      ]
    },
    {
      "cell_type": "markdown",
      "source": [
        "## KN Regressor"
      ],
      "metadata": {
        "id": "-tYJ6zw7CfKS"
      }
    },
    {
      "cell_type": "code",
      "execution_count": null,
      "metadata": {
        "colab": {
          "base_uri": "https://localhost:8080/"
        },
        "id": "QMLcO0NMBNup",
        "outputId": "282262b3-1092-41a1-afb2-b0efbabd7b1d"
      },
      "outputs": [
        {
          "output_type": "stream",
          "name": "stdout",
          "text": [
            "Mean Squared Error: 0.923414435231752\n",
            "Mean Absolute Error: 0.6004893298899007\n"
          ]
        }
      ],
      "source": [
        "from sklearn.model_selection import train_test_split\n",
        "from sklearn.preprocessing import StandardScaler\n",
        "from sklearn.neighbors import KNeighborsRegressor\n",
        "from sklearn.metrics import mean_squared_error, mean_absolute_error\n",
        "from sklearn.metrics import accuracy_score\n",
        "\n",
        "# Define your feature columns and target variable\n",
        "X = df.drop(\"antiguedad\", axis=1)\n",
        "y = df['antiguedad']\n",
        "\n",
        "# Split the data into training and testing sets\n",
        "X_train, X_test, y_train, y_test = train_test_split(X, y, test_size=0.2, random_state=42)\n",
        "\n",
        "# Feature scaling (standardization)\n",
        "scaler = StandardScaler()\n",
        "X_train = scaler.fit_transform(X_train)\n",
        "X_test = scaler.transform(X_test)\n",
        "\n",
        "# Create a KNN regressor with the desired number of neighbors (e.g., 5)\n",
        "knn_regressor = KNeighborsRegressor(n_neighbors=5)\n",
        "\n",
        "# Train the KNN model on your training data\n",
        "knn_regressor.fit(X_train, y_train)\n",
        "\n",
        "# Make predictions on the test data\n",
        "y_pred = knn_regressor.predict(X_test)\n",
        "\n",
        "# Calculate evaluation metrics\n",
        "mse = mean_squared_error(y_test, y_pred)\n",
        "mae = mean_absolute_error(y_test, y_pred)\n",
        "\n",
        "print(f\"Mean Squared Error: {mse}\")\n",
        "print(f\"Mean Absolute Error: {mae}\")\n"
      ]
    },
    {
      "cell_type": "code",
      "source": [
        "from sklearn.metrics import r2_score\n",
        "\n",
        "# Calculate R² (coefficient of determination)\n",
        "r_squared = r2_score(y_test, y_pred)\n",
        "\n",
        "print(f\"R² (Coefficient of Determination): {r_squared:.2f}\")"
      ],
      "metadata": {
        "colab": {
          "base_uri": "https://localhost:8080/"
        },
        "id": "7y1w5f66BbaL",
        "outputId": "04fabc56-68ec-4713-9c95-1383aaf2e86e"
      },
      "execution_count": null,
      "outputs": [
        {
          "output_type": "stream",
          "name": "stdout",
          "text": [
            "R² (Coefficient of Determination): 0.95\n"
          ]
        }
      ]
    },
    {
      "cell_type": "markdown",
      "source": [
        "## Random Forest\n"
      ],
      "metadata": {
        "id": "Kpd72gLMCqa4"
      }
    },
    {
      "cell_type": "code",
      "source": [
        "import pandas as pd\n",
        "from sklearn.model_selection import train_test_split\n",
        "from sklearn.ensemble import RandomForestRegressor\n",
        "from sklearn.metrics import mean_squared_error, mean_absolute_error, r2_score\n",
        "\n",
        "# Define your feature columns and target variable\n",
        "features = ['hijos', 'edad_ingreso', 'edad_salida', 'evaluacion', 'distancia_km', 'tiempo_h',\n",
        "            'dia_ingreso', 'mes_ingreso', 'year_ingreso', 'dia_salida', 'mes_salida', 'year_salida',\n",
        "            'dia_nacimiento', 'mes_nacimiento', 'year_nacimiento', 'Hombre', 'Mujer', 'baja_liverpool',\n",
        "            'baja_suburbia', 'Eventual No Sind.', 'Eventual Sind.', 'Planta No Sind.', 'Planta Sind.',\n",
        "            'SBB Eventuales', 'SBB Planta', 'Vía Planta No Sind.', 'Vía Planta Sind.',\n",
        "            'ubicacion_encoded', 'funcion_encoded', 'numero_puestos', 'duracion_promedio']\n",
        "\n",
        "target = 'antiguedad'\n",
        "\n",
        "# Split the data into training and testing sets\n",
        "X = df[features]\n",
        "y = df[target]\n",
        "X_train, X_test, y_train, y_test = train_test_split(X, y, test_size=0.2, random_state=42)\n",
        "\n",
        "# Create a Random Forest Regressor model\n",
        "rf_regressor = RandomForestRegressor(n_estimators=200, random_state=42)  # You can adjust n_estimators as needed\n",
        "\n",
        "# Fit the model to the training data\n",
        "rf_regressor.fit(X_train, y_train)\n",
        "\n",
        "# Make predictions on the test data\n",
        "y_pred = rf_regressor.predict(X_test)\n",
        "\n",
        "# Calculate evaluation metrics\n",
        "mse = mean_squared_error(y_test, y_pred)\n",
        "mae = mean_absolute_error(y_test, y_pred)\n",
        "r2 = r2_score(y_test, y_pred)\n",
        "\n",
        "print(f\"Mean Squared Error: {mse}\")\n",
        "print(f\"Mean Absolute Error: {mae}\")\n",
        "print(f\"R-squared (R2) Score: {r2}\")"
      ],
      "metadata": {
        "colab": {
          "base_uri": "https://localhost:8080/"
        },
        "id": "tuDASOspCtVQ",
        "outputId": "dd7f779b-d9b2-4d84-c8a7-621ce8ee9997"
      },
      "execution_count": null,
      "outputs": [
        {
          "output_type": "stream",
          "name": "stdout",
          "text": [
            "Mean Squared Error: 0.015747425920891667\n",
            "Mean Absolute Error: 0.035504621448960175\n",
            "R-squared (R2) Score: 0.9992068219828738\n"
          ]
        }
      ]
    }
  ]
}